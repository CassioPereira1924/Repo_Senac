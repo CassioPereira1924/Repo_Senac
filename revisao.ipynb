{
 "cells": [
  {
   "cell_type": "markdown",
   "metadata": {},
   "source": [
    "# Análise de Dados - SENAC RJ\n",
    "\n",
    "## Aula 5\n",
    "\n",
    "### Revisão Completa"
   ]
  },
  {
   "cell_type": "code",
   "execution_count": 50,
   "metadata": {},
   "outputs": [
    {
     "name": "stdout",
     "output_type": "stream",
     "text": [
      "50\n"
     ]
    }
   ],
   "source": [
    "num1 = 20\n",
    "num2 = 30\n",
    "resultado = num1 + num2\n",
    "print(resultado)"
   ]
  },
  {
   "cell_type": "code",
   "execution_count": 51,
   "metadata": {},
   "outputs": [
    {
     "name": "stdout",
     "output_type": "stream",
     "text": [
      "O resultade de 20 + 30 é 50\n"
     ]
    }
   ],
   "source": [
    "print(f'O resultade de {num1} + {num2} é {resultado}')"
   ]
  },
  {
   "cell_type": "code",
   "execution_count": 52,
   "metadata": {},
   "outputs": [
    {
     "ename": "ValueError",
     "evalue": "invalid literal for int() with base 10: ''",
     "output_type": "error",
     "traceback": [
      "\u001b[31m---------------------------------------------------------------------------\u001b[39m",
      "\u001b[31mValueError\u001b[39m                                Traceback (most recent call last)",
      "\u001b[36mCell\u001b[39m\u001b[36m \u001b[39m\u001b[32mIn[52]\u001b[39m\u001b[32m, line 1\u001b[39m\n\u001b[32m----> \u001b[39m\u001b[32m1\u001b[39m num3 = \u001b[38;5;28;43mint\u001b[39;49m\u001b[43m(\u001b[49m\u001b[38;5;28;43minput\u001b[39;49m\u001b[43m(\u001b[49m\u001b[33;43m'\u001b[39;49m\u001b[33;43mdigite o primeiro Nº: \u001b[39;49m\u001b[33;43m'\u001b[39;49m\u001b[43m)\u001b[49m\u001b[43m)\u001b[49m\n\u001b[32m      2\u001b[39m num4 = \u001b[38;5;28mint\u001b[39m(\u001b[38;5;28minput\u001b[39m(\u001b[33m'\u001b[39m\u001b[33mDigite o segundo Nº: \u001b[39m\u001b[33m'\u001b[39m))\n\u001b[32m      3\u001b[39m resultado2 = num3 + num4\n",
      "\u001b[31mValueError\u001b[39m: invalid literal for int() with base 10: ''"
     ]
    }
   ],
   "source": [
    "num3 = int(input('digite o primeiro Nº: '))\n",
    "num4 = int(input('Digite o segundo Nº: '))\n",
    "resultado2 = num3 + num4\n",
    "print(resultado2)"
   ]
  },
  {
   "cell_type": "code",
   "execution_count": null,
   "metadata": {},
   "outputs": [
    {
     "name": "stdout",
     "output_type": "stream",
     "text": [
      "Aprovado\n"
     ]
    }
   ],
   "source": [
    "b1 = 8.5\n",
    "b2 = 7.5\n",
    "b3 = 8.9\n",
    "b4 = 7.8\n",
    "\n",
    "media = (b1+b2+b3+b4) / 4\n",
    "\n",
    "if media >= 7:\n",
    "    print('Aprovado')\n",
    "elif media >=5 and media <7:\n",
    "    print('Recuperação')\n",
    "else:\n",
    "    print('Reprovado')\n"
   ]
  },
  {
   "cell_type": "code",
   "execution_count": null,
   "metadata": {},
   "outputs": [
    {
     "name": "stdout",
     "output_type": "stream",
     "text": [
      "Digite um nº válido\n",
      "Digite um nº válido\n"
     ]
    }
   ],
   "source": [
    "while True:\n",
    "    try:\n",
    "        num3 = int(input('digite o primeiro Nº: '))\n",
    "        break\n",
    "    except:\n",
    "        print('Digite um nº válido')"
   ]
  },
  {
   "cell_type": "code",
   "execution_count": null,
   "metadata": {},
   "outputs": [
    {
     "name": "stdout",
     "output_type": "stream",
     "text": [
      "0\n",
      "1\n",
      "2\n",
      "3\n",
      "4\n",
      "5\n"
     ]
    }
   ],
   "source": [
    "contador = 0\n",
    "\n",
    "while contador <=5:\n",
    "    print(contador)\n",
    "    contador += 1"
   ]
  },
  {
   "cell_type": "code",
   "execution_count": null,
   "metadata": {},
   "outputs": [
    {
     "name": "stdout",
     "output_type": "stream",
     "text": [
      "0\n",
      "1\n",
      "2\n",
      "3\n",
      "4\n"
     ]
    }
   ],
   "source": [
    "for i in range(5):\n",
    "    print(i)"
   ]
  },
  {
   "cell_type": "code",
   "execution_count": null,
   "metadata": {},
   "outputs": [
    {
     "name": "stdout",
     "output_type": "stream",
     "text": [
      "<class 'tuple'>\n"
     ]
    }
   ],
   "source": [
    "produtos = ('Fogão','Geledeira')\n",
    "tipo_dado = type(produtos)\n",
    "print(tipo_dado)\n"
   ]
  },
  {
   "cell_type": "code",
   "execution_count": null,
   "metadata": {},
   "outputs": [
    {
     "ename": "TypeError",
     "evalue": "object of type 'float' has no len()",
     "output_type": "error",
     "traceback": [
      "\u001b[31m---------------------------------------------------------------------------\u001b[39m",
      "\u001b[31mTypeError\u001b[39m                                 Traceback (most recent call last)",
      "\u001b[36mCell\u001b[39m\u001b[36m \u001b[39m\u001b[32mIn[31]\u001b[39m\u001b[32m, line 4\u001b[39m\n\u001b[32m      2\u001b[39m idade = \u001b[32m20.3\u001b[39m\n\u001b[32m      3\u001b[39m cpf = \u001b[32m35698545698\u001b[39m\n\u001b[32m----> \u001b[39m\u001b[32m4\u001b[39m \u001b[38;5;28mprint\u001b[39m(\u001b[38;5;28;43mlen\u001b[39;49m\u001b[43m(\u001b[49m\u001b[43midade\u001b[49m\u001b[43m)\u001b[49m)\n",
      "\u001b[31mTypeError\u001b[39m: object of type 'float' has no len()"
     ]
    }
   ],
   "source": [
    "nome = 'Joao'\n",
    "idade = 20.3\n",
    "cpf = 35698545698\n",
    "print(len(idade))"
   ]
  },
  {
   "cell_type": "code",
   "execution_count": 55,
   "metadata": {},
   "outputs": [
    {
     "name": "stdout",
     "output_type": "stream",
     "text": [
      "Geledeira\n"
     ]
    }
   ],
   "source": [
    "produtos = ['Fogão','Geledeira']\n",
    "preco = [600, 2500]\n",
    "tipo_dado = type(produtos)\n",
    "print(produtos[1])"
   ]
  },
  {
   "cell_type": "code",
   "execution_count": 54,
   "metadata": {},
   "outputs": [
    {
     "name": "stdout",
     "output_type": "stream",
     "text": [
      "0\n",
      "1\n"
     ]
    }
   ],
   "source": [
    "for i in range(2):\n",
    "    print(i)"
   ]
  },
  {
   "cell_type": "code",
   "execution_count": 53,
   "metadata": {},
   "outputs": [
    {
     "name": "stdout",
     "output_type": "stream",
     "text": [
      "O produto Fogão custa R$ 600\n",
      "O produto Geledeira custa R$ 2500\n"
     ]
    }
   ],
   "source": [
    "for i in range(len(produtos)):\n",
    "    print(f'O produto {produtos[i]} custa R$ {preco[i]}')"
   ]
  },
  {
   "cell_type": "code",
   "execution_count": 61,
   "metadata": {},
   "outputs": [
    {
     "name": "stdout",
     "output_type": "stream",
     "text": [
      "['Goiaba', 'Queijo', 'sabão', 'Coca', 'ovo']\n"
     ]
    }
   ],
   "source": [
    "lista = ['chocolate', 'maçã','ovo', 'sabão', 'Coca', 'ovo']\n",
    "lista[1] = 'Goiaba'\n",
    "lista.insert(2,'Queijo')\n",
    "lista.remove('ovo')\n",
    "lista.pop(0)\n",
    "print(lista)"
   ]
  },
  {
   "cell_type": "markdown",
   "metadata": {},
   "source": [
    "## Crie variáveis para \n",
    "## armazenar nome, \n",
    "## idade e cidade.\n",
    "## - Exiba essas \n",
    "## informações usando \n",
    "## print.\n"
   ]
  },
  {
   "cell_type": "code",
   "execution_count": null,
   "metadata": {},
   "outputs": [],
   "source": [
    "'''Crie variáveis para \n",
    "armazenar nome, \n",
    "idade e cidade.\n",
    "- Exiba essas \n",
    "informações usando \n",
    "print.'''\n",
    "\n"
   ]
  },
  {
   "cell_type": "code",
   "execution_count": null,
   "metadata": {},
   "outputs": [],
   "source": [
    "\n",
    "\n",
    "ista = [1, 2, 3]\n",
    "print(lista[0])\n"
   ]
  }
 ],
 "metadata": {
  "kernelspec": {
   "display_name": "Python 3",
   "language": "python",
   "name": "python3"
  },
  "language_info": {
   "codemirror_mode": {
    "name": "ipython",
    "version": 3
   },
   "file_extension": ".py",
   "mimetype": "text/x-python",
   "name": "python",
   "nbconvert_exporter": "python",
   "pygments_lexer": "ipython3",
   "version": "3.11.4"
  },
  "orig_nbformat": 4
 },
 "nbformat": 4,
 "nbformat_minor": 2
}
