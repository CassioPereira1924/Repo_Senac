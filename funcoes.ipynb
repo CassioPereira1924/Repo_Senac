{
 "cells": [
  {
   "cell_type": "code",
   "execution_count": 1,
   "metadata": {},
   "outputs": [],
   "source": [
    "def saudacao():\n",
    "    print('Bem vindo ao Senac')"
   ]
  },
  {
   "cell_type": "code",
   "execution_count": 3,
   "metadata": {},
   "outputs": [
    {
     "name": "stdout",
     "output_type": "stream",
     "text": [
      "Bem vindo ao Senac\n"
     ]
    }
   ],
   "source": [
    "saudacao()"
   ]
  },
  {
   "cell_type": "code",
   "execution_count": 4,
   "metadata": {},
   "outputs": [],
   "source": [
    "def multiplicacao(a,b):\n",
    "    resultado = a * b\n",
    "    print(f'O resultado de {a} * {b} é {resultado}')"
   ]
  },
  {
   "cell_type": "code",
   "execution_count": 7,
   "metadata": {},
   "outputs": [],
   "source": [
    "def divisao(a,b):\n",
    "    resultado = a * b\n",
    "    return resultado"
   ]
  },
  {
   "cell_type": "code",
   "execution_count": 6,
   "metadata": {},
   "outputs": [
    {
     "name": "stdout",
     "output_type": "stream",
     "text": [
      "O resultado de 5 * 3 é 15\n"
     ]
    }
   ],
   "source": [
    "multiplicacao(5,3)"
   ]
  },
  {
   "cell_type": "code",
   "execution_count": 9,
   "metadata": {},
   "outputs": [],
   "source": [
    "resultado_divisao = divisao(10,2)\n",
    "\n"
   ]
  },
  {
   "cell_type": "code",
   "execution_count": 11,
   "metadata": {},
   "outputs": [],
   "source": [
    "def situacao_aluno(lista):\n",
    "    media = sum(lista) / len(lista)\n",
    "\n",
    "    if media >= 7:\n",
    "        print('Aprovado')\n",
    "    elif media >=5 and media <7:\n",
    "        print('Recuperação')\n",
    "    else:\n",
    "        print('Reprovado')\n"
   ]
  },
  {
   "cell_type": "code",
   "execution_count": 12,
   "metadata": {},
   "outputs": [
    {
     "name": "stdout",
     "output_type": "stream",
     "text": [
      "Aprovado\n"
     ]
    }
   ],
   "source": [
    "joao = [8,9,7,7.5]\n",
    "situacao_aluno(joao)"
   ]
  },
  {
   "cell_type": "code",
   "execution_count": null,
   "metadata": {},
   "outputs": [],
   "source": []
  },
  {
   "cell_type": "code",
   "execution_count": null,
   "metadata": {},
   "outputs": [],
   "source": []
  },
  {
   "cell_type": "code",
   "execution_count": null,
   "metadata": {},
   "outputs": [],
   "source": []
  },
  {
   "cell_type": "code",
   "execution_count": null,
   "metadata": {},
   "outputs": [],
   "source": []
  },
  {
   "cell_type": "code",
   "execution_count": 41,
   "metadata": {},
   "outputs": [],
   "source": [
    "def multa(via, passada):   \n",
    "    ate_10b = via*1.1\n",
    "    ate_20b = via*1.2\n",
    "    ate_30b = via*1.3\n",
    "    if passada < ate_10b:\n",
    "        print('sem multa')\n",
    "    elif passada >= ate_10b and passada < ate_20b:\n",
    "        print('leve')\n",
    "    elif passada >= ate_20b and passada < ate_30b:\n",
    "        print('multa média')\n",
    "    else:\n",
    "        print('grave')"
   ]
  },
  {
   "cell_type": "code",
   "execution_count": 45,
   "metadata": {},
   "outputs": [
    {
     "name": "stdout",
     "output_type": "stream",
     "text": [
      "sem multa\n"
     ]
    }
   ],
   "source": [
    "multa(100,105)"
   ]
  },
  {
   "cell_type": "code",
   "execution_count": null,
   "metadata": {},
   "outputs": [],
   "source": []
  }
 ],
 "metadata": {
  "kernelspec": {
   "display_name": "Python 3",
   "language": "python",
   "name": "python3"
  },
  "language_info": {
   "codemirror_mode": {
    "name": "ipython",
    "version": 3
   },
   "file_extension": ".py",
   "mimetype": "text/x-python",
   "name": "python",
   "nbconvert_exporter": "python",
   "pygments_lexer": "ipython3",
   "version": "3.11.4"
  },
  "orig_nbformat": 4
 },
 "nbformat": 4,
 "nbformat_minor": 2
}
